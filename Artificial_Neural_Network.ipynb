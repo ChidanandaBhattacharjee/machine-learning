{
  "nbformat": 4,
  "nbformat_minor": 0,
  "metadata": {
    "colab": {
      "name": "Copy of Artificial Neural Network",
      "provenance": [],
      "collapsed_sections": [],
      "toc_visible": true,
      "include_colab_link": true
    },
    "kernelspec": {
      "name": "python3",
      "display_name": "Python 3"
    }
  },
  "cells": [
    {
      "cell_type": "markdown",
      "metadata": {
        "id": "view-in-github",
        "colab_type": "text"
      },
      "source": [
        "<a href=\"https://colab.research.google.com/github/ChidanandaBhattacharjee/machine-learning/blob/main/Artificial_Neural_Network.ipynb\" target=\"_parent\"><img src=\"https://colab.research.google.com/assets/colab-badge.svg\" alt=\"Open In Colab\"/></a>"
      ]
    },
    {
      "cell_type": "markdown",
      "metadata": {
        "id": "3cbb7fRy-eyr"
      },
      "source": [
        "# Artificial Neural Network"
      ]
    },
    {
      "cell_type": "markdown",
      "metadata": {
        "id": "8sNDnxE2-pwE"
      },
      "source": [
        "### Importing the libraries"
      ]
    },
    {
      "cell_type": "code",
      "metadata": {
        "id": "9iCNvm6aZJs8"
      },
      "source": [
        "import numpy as np\r\n",
        "import pandas as pd\r\n",
        "import tensorflow as tf"
      ],
      "execution_count": 1,
      "outputs": []
    },
    {
      "cell_type": "markdown",
      "metadata": {
        "id": "AG3FQEch-yuA"
      },
      "source": [
        "## Part 1 - Data Preprocessing"
      ]
    },
    {
      "cell_type": "markdown",
      "metadata": {
        "id": "-4zq8Mza_D9O"
      },
      "source": [
        "### Importing the dataset"
      ]
    },
    {
      "cell_type": "code",
      "metadata": {
        "id": "ngIIr3HBas8z"
      },
      "source": [
        "dataset=pd.read_excel('Folds5x2_pp.xlsx')\r\n",
        "X=dataset.iloc[:,:-1].values\r\n",
        "y=dataset.iloc[:,-1].values"
      ],
      "execution_count": 2,
      "outputs": []
    },
    {
      "cell_type": "code",
      "metadata": {
        "colab": {
          "base_uri": "https://localhost:8080/"
        },
        "id": "_aqXnN-UcUKY",
        "outputId": "7da399be-144c-4b82-9f03-302904790cc7"
      },
      "source": [
        "print(X)"
      ],
      "execution_count": 3,
      "outputs": [
        {
          "output_type": "stream",
          "text": [
            "[[  14.96   41.76 1024.07   73.17]\n",
            " [  25.18   62.96 1020.04   59.08]\n",
            " [   5.11   39.4  1012.16   92.14]\n",
            " ...\n",
            " [  31.32   74.33 1012.92   36.48]\n",
            " [  24.48   69.45 1013.86   62.39]\n",
            " [  21.6    62.52 1017.23   67.87]]\n"
          ],
          "name": "stdout"
        }
      ]
    },
    {
      "cell_type": "code",
      "metadata": {
        "colab": {
          "base_uri": "https://localhost:8080/"
        },
        "id": "BgBLC3DecWJ9",
        "outputId": "8428d483-dda4-4cfb-db6a-4c3aa56f9141"
      },
      "source": [
        "print(y)"
      ],
      "execution_count": 4,
      "outputs": [
        {
          "output_type": "stream",
          "text": [
            "[463.26 444.37 488.56 ... 429.57 435.74 453.28]\n"
          ],
          "name": "stdout"
        }
      ]
    },
    {
      "cell_type": "markdown",
      "metadata": {
        "id": "VC6omXel_Up0"
      },
      "source": [
        "### Splitting the dataset into the Training set and Test set"
      ]
    },
    {
      "cell_type": "code",
      "metadata": {
        "id": "X-wsbRX6cbUA"
      },
      "source": [
        "from sklearn.model_selection import train_test_split\r\n",
        "X_train,X_test,y_train,y_test=train_test_split(X,y,test_size=0.2,random_state=0)"
      ],
      "execution_count": 6,
      "outputs": []
    },
    {
      "cell_type": "markdown",
      "metadata": {
        "id": "_mSLlAT9_eyI"
      },
      "source": [
        "## Part 2 - Building the ANN"
      ]
    },
    {
      "cell_type": "markdown",
      "metadata": {
        "id": "CsBULd_f_wLY"
      },
      "source": [
        "### Initializing the ANN"
      ]
    },
    {
      "cell_type": "code",
      "metadata": {
        "id": "2tbiiyXZc9T2"
      },
      "source": [
        "ann=tf.keras.models.Sequential()"
      ],
      "execution_count": 11,
      "outputs": []
    },
    {
      "cell_type": "markdown",
      "metadata": {
        "id": "iitAFJS_ABUn"
      },
      "source": [
        "### Adding the input layer and the first hidden layer"
      ]
    },
    {
      "cell_type": "code",
      "metadata": {
        "id": "s3UvJbvUdUdE"
      },
      "source": [
        "ann.add(tf.keras.layers.Dense(units=6,activation='relu'))"
      ],
      "execution_count": 12,
      "outputs": []
    },
    {
      "cell_type": "markdown",
      "metadata": {
        "id": "-lb4kK_wAKbs"
      },
      "source": [
        "### Adding the second hidden layer"
      ]
    },
    {
      "cell_type": "code",
      "metadata": {
        "id": "wmlJKa3md9VV"
      },
      "source": [
        "ann.add(tf.keras.layers.Dense(units=6,activation='relu'))"
      ],
      "execution_count": 13,
      "outputs": []
    },
    {
      "cell_type": "markdown",
      "metadata": {
        "id": "jwMOmKb3AdBY"
      },
      "source": [
        "### Adding the output layer"
      ]
    },
    {
      "cell_type": "code",
      "metadata": {
        "id": "eupy2uqxeEdT"
      },
      "source": [
        "ann.add(tf.keras.layers.Dense(units=1))"
      ],
      "execution_count": 14,
      "outputs": []
    },
    {
      "cell_type": "markdown",
      "metadata": {
        "id": "fq7e4fF6A1yy"
      },
      "source": [
        "## Part 3 - Training the ANN"
      ]
    },
    {
      "cell_type": "markdown",
      "metadata": {
        "id": "qDeylAs2An25"
      },
      "source": [
        "### Compiling the ANN"
      ]
    },
    {
      "cell_type": "code",
      "metadata": {
        "id": "8f9wMnRFeb4b"
      },
      "source": [
        "ann.compile(optimizer='adam',loss='mean_squared_error')"
      ],
      "execution_count": 15,
      "outputs": []
    },
    {
      "cell_type": "markdown",
      "metadata": {
        "id": "YjVuiybYOo7r"
      },
      "source": [
        "### Training the ANN model on the Training set"
      ]
    },
    {
      "cell_type": "code",
      "metadata": {
        "colab": {
          "base_uri": "https://localhost:8080/"
        },
        "id": "e1apc1WMfF5M",
        "outputId": "9f2b82e8-ff99-4cf6-f085-ded08e6d0e2e"
      },
      "source": [
        "ann.fit(X_train,y_train,batch_size=32,epochs=100)"
      ],
      "execution_count": 16,
      "outputs": [
        {
          "output_type": "stream",
          "text": [
            "Epoch 1/100\n",
            "240/240 [==============================] - 1s 888us/step - loss: 83845.1973\n",
            "Epoch 2/100\n",
            "240/240 [==============================] - 0s 960us/step - loss: 437.7872\n",
            "Epoch 3/100\n",
            "240/240 [==============================] - 0s 891us/step - loss: 333.5665\n",
            "Epoch 4/100\n",
            "240/240 [==============================] - 0s 897us/step - loss: 304.4972\n",
            "Epoch 5/100\n",
            "240/240 [==============================] - 0s 899us/step - loss: 271.9706\n",
            "Epoch 6/100\n",
            "240/240 [==============================] - 0s 897us/step - loss: 250.4266\n",
            "Epoch 7/100\n",
            "240/240 [==============================] - 0s 897us/step - loss: 211.5744\n",
            "Epoch 8/100\n",
            "240/240 [==============================] - 0s 895us/step - loss: 178.9418\n",
            "Epoch 9/100\n",
            "240/240 [==============================] - 0s 889us/step - loss: 151.7646\n",
            "Epoch 10/100\n",
            "240/240 [==============================] - 0s 856us/step - loss: 122.7842\n",
            "Epoch 11/100\n",
            "240/240 [==============================] - 0s 896us/step - loss: 102.7816\n",
            "Epoch 12/100\n",
            "240/240 [==============================] - 0s 937us/step - loss: 80.8767\n",
            "Epoch 13/100\n",
            "240/240 [==============================] - 0s 891us/step - loss: 68.1267\n",
            "Epoch 14/100\n",
            "240/240 [==============================] - 0s 849us/step - loss: 55.6104\n",
            "Epoch 15/100\n",
            "240/240 [==============================] - 0s 930us/step - loss: 50.7807\n",
            "Epoch 16/100\n",
            "240/240 [==============================] - 0s 948us/step - loss: 44.6367\n",
            "Epoch 17/100\n",
            "240/240 [==============================] - 0s 888us/step - loss: 39.7215\n",
            "Epoch 18/100\n",
            "240/240 [==============================] - 0s 886us/step - loss: 36.8740\n",
            "Epoch 19/100\n",
            "240/240 [==============================] - 0s 883us/step - loss: 33.3077\n",
            "Epoch 20/100\n",
            "240/240 [==============================] - 0s 985us/step - loss: 31.5381\n",
            "Epoch 21/100\n",
            "240/240 [==============================] - 0s 945us/step - loss: 29.2635\n",
            "Epoch 22/100\n",
            "240/240 [==============================] - 0s 993us/step - loss: 29.0840\n",
            "Epoch 23/100\n",
            "240/240 [==============================] - 0s 993us/step - loss: 29.0218\n",
            "Epoch 24/100\n",
            "240/240 [==============================] - 0s 905us/step - loss: 28.3128\n",
            "Epoch 25/100\n",
            "240/240 [==============================] - 0s 974us/step - loss: 26.9379\n",
            "Epoch 26/100\n",
            "240/240 [==============================] - 0s 891us/step - loss: 26.8440\n",
            "Epoch 27/100\n",
            "240/240 [==============================] - 0s 912us/step - loss: 27.8782\n",
            "Epoch 28/100\n",
            "240/240 [==============================] - 0s 886us/step - loss: 27.9218\n",
            "Epoch 29/100\n",
            "240/240 [==============================] - 0s 950us/step - loss: 26.1196\n",
            "Epoch 30/100\n",
            "240/240 [==============================] - 0s 836us/step - loss: 27.0343\n",
            "Epoch 31/100\n",
            "240/240 [==============================] - 0s 882us/step - loss: 28.0765\n",
            "Epoch 32/100\n",
            "240/240 [==============================] - 0s 912us/step - loss: 28.3334\n",
            "Epoch 33/100\n",
            "240/240 [==============================] - 0s 929us/step - loss: 27.5403\n",
            "Epoch 34/100\n",
            "240/240 [==============================] - 0s 897us/step - loss: 29.9148\n",
            "Epoch 35/100\n",
            "240/240 [==============================] - 0s 858us/step - loss: 28.4667\n",
            "Epoch 36/100\n",
            "240/240 [==============================] - 0s 931us/step - loss: 27.9702\n",
            "Epoch 37/100\n",
            "240/240 [==============================] - 0s 893us/step - loss: 27.4300\n",
            "Epoch 38/100\n",
            "240/240 [==============================] - 0s 893us/step - loss: 26.8551\n",
            "Epoch 39/100\n",
            "240/240 [==============================] - 0s 920us/step - loss: 29.9570\n",
            "Epoch 40/100\n",
            "240/240 [==============================] - 0s 918us/step - loss: 29.5563\n",
            "Epoch 41/100\n",
            "240/240 [==============================] - 0s 900us/step - loss: 27.1880\n",
            "Epoch 42/100\n",
            "240/240 [==============================] - 0s 898us/step - loss: 29.9192\n",
            "Epoch 43/100\n",
            "240/240 [==============================] - 0s 921us/step - loss: 28.9287\n",
            "Epoch 44/100\n",
            "240/240 [==============================] - 0s 876us/step - loss: 27.9484\n",
            "Epoch 45/100\n",
            "240/240 [==============================] - 0s 874us/step - loss: 28.4733\n",
            "Epoch 46/100\n",
            "240/240 [==============================] - 0s 882us/step - loss: 27.6852\n",
            "Epoch 47/100\n",
            "240/240 [==============================] - 0s 913us/step - loss: 28.0016\n",
            "Epoch 48/100\n",
            "240/240 [==============================] - 0s 1ms/step - loss: 29.2435\n",
            "Epoch 49/100\n",
            "240/240 [==============================] - 0s 889us/step - loss: 27.5509\n",
            "Epoch 50/100\n",
            "240/240 [==============================] - 0s 910us/step - loss: 28.1562\n",
            "Epoch 51/100\n",
            "240/240 [==============================] - 0s 888us/step - loss: 28.2647\n",
            "Epoch 52/100\n",
            "240/240 [==============================] - 0s 989us/step - loss: 27.6818\n",
            "Epoch 53/100\n",
            "240/240 [==============================] - 0s 837us/step - loss: 26.6897\n",
            "Epoch 54/100\n",
            "240/240 [==============================] - 0s 860us/step - loss: 29.3382\n",
            "Epoch 55/100\n",
            "240/240 [==============================] - 0s 881us/step - loss: 29.9493\n",
            "Epoch 56/100\n",
            "240/240 [==============================] - 0s 911us/step - loss: 29.7188\n",
            "Epoch 57/100\n",
            "240/240 [==============================] - 0s 958us/step - loss: 29.2780\n",
            "Epoch 58/100\n",
            "240/240 [==============================] - 0s 922us/step - loss: 27.5564\n",
            "Epoch 59/100\n",
            "240/240 [==============================] - 0s 908us/step - loss: 26.6656\n",
            "Epoch 60/100\n",
            "240/240 [==============================] - 0s 899us/step - loss: 28.4130\n",
            "Epoch 61/100\n",
            "240/240 [==============================] - 0s 903us/step - loss: 28.8803\n",
            "Epoch 62/100\n",
            "240/240 [==============================] - 0s 866us/step - loss: 28.3591\n",
            "Epoch 63/100\n",
            "240/240 [==============================] - 0s 880us/step - loss: 27.6550\n",
            "Epoch 64/100\n",
            "240/240 [==============================] - 0s 890us/step - loss: 26.6440\n",
            "Epoch 65/100\n",
            "240/240 [==============================] - 0s 882us/step - loss: 27.2723\n",
            "Epoch 66/100\n",
            "240/240 [==============================] - 0s 909us/step - loss: 28.2547\n",
            "Epoch 67/100\n",
            "240/240 [==============================] - 0s 901us/step - loss: 28.3023\n",
            "Epoch 68/100\n",
            "240/240 [==============================] - 0s 926us/step - loss: 28.0187\n",
            "Epoch 69/100\n",
            "240/240 [==============================] - 0s 1ms/step - loss: 27.4980\n",
            "Epoch 70/100\n",
            "240/240 [==============================] - 0s 940us/step - loss: 28.1270\n",
            "Epoch 71/100\n",
            "240/240 [==============================] - 0s 900us/step - loss: 27.5817\n",
            "Epoch 72/100\n",
            "240/240 [==============================] - 0s 893us/step - loss: 30.2196\n",
            "Epoch 73/100\n",
            "240/240 [==============================] - 0s 1ms/step - loss: 29.6547\n",
            "Epoch 74/100\n",
            "240/240 [==============================] - 0s 987us/step - loss: 26.0515\n",
            "Epoch 75/100\n",
            "240/240 [==============================] - 0s 928us/step - loss: 27.3960\n",
            "Epoch 76/100\n",
            "240/240 [==============================] - 0s 994us/step - loss: 27.6163\n",
            "Epoch 77/100\n",
            "240/240 [==============================] - 0s 1ms/step - loss: 27.6818\n",
            "Epoch 78/100\n",
            "240/240 [==============================] - 0s 904us/step - loss: 27.4394\n",
            "Epoch 79/100\n",
            "240/240 [==============================] - 0s 1ms/step - loss: 29.4406\n",
            "Epoch 80/100\n",
            "240/240 [==============================] - 0s 1ms/step - loss: 27.0304\n",
            "Epoch 81/100\n",
            "240/240 [==============================] - 0s 1ms/step - loss: 27.8526\n",
            "Epoch 82/100\n",
            "240/240 [==============================] - 0s 954us/step - loss: 26.8401\n",
            "Epoch 83/100\n",
            "240/240 [==============================] - 0s 944us/step - loss: 29.3090\n",
            "Epoch 84/100\n",
            "240/240 [==============================] - 0s 936us/step - loss: 29.8786\n",
            "Epoch 85/100\n",
            "240/240 [==============================] - 0s 919us/step - loss: 28.3089\n",
            "Epoch 86/100\n",
            "240/240 [==============================] - 0s 901us/step - loss: 26.4681\n",
            "Epoch 87/100\n",
            "240/240 [==============================] - 0s 910us/step - loss: 27.5787\n",
            "Epoch 88/100\n",
            "240/240 [==============================] - 0s 922us/step - loss: 28.5130\n",
            "Epoch 89/100\n",
            "240/240 [==============================] - 0s 947us/step - loss: 27.7200\n",
            "Epoch 90/100\n",
            "240/240 [==============================] - 0s 870us/step - loss: 26.9456\n",
            "Epoch 91/100\n",
            "240/240 [==============================] - 0s 925us/step - loss: 27.6078\n",
            "Epoch 92/100\n",
            "240/240 [==============================] - 0s 977us/step - loss: 29.9178\n",
            "Epoch 93/100\n",
            "240/240 [==============================] - 0s 928us/step - loss: 27.4485\n",
            "Epoch 94/100\n",
            "240/240 [==============================] - 0s 899us/step - loss: 28.3358\n",
            "Epoch 95/100\n",
            "240/240 [==============================] - 0s 944us/step - loss: 26.5701\n",
            "Epoch 96/100\n",
            "240/240 [==============================] - 0s 948us/step - loss: 28.6334\n",
            "Epoch 97/100\n",
            "240/240 [==============================] - 0s 1ms/step - loss: 27.2328\n",
            "Epoch 98/100\n",
            "240/240 [==============================] - 0s 1ms/step - loss: 27.2505\n",
            "Epoch 99/100\n",
            "240/240 [==============================] - 0s 948us/step - loss: 28.4780\n",
            "Epoch 100/100\n",
            "240/240 [==============================] - 0s 901us/step - loss: 28.5277\n"
          ],
          "name": "stdout"
        },
        {
          "output_type": "execute_result",
          "data": {
            "text/plain": [
              "<tensorflow.python.keras.callbacks.History at 0x7f67fdda2550>"
            ]
          },
          "metadata": {
            "tags": []
          },
          "execution_count": 16
        }
      ]
    },
    {
      "cell_type": "markdown",
      "metadata": {
        "id": "0H0zKKNEBLD5"
      },
      "source": [
        "### Predicting the results of the Test set"
      ]
    },
    {
      "cell_type": "code",
      "metadata": {
        "colab": {
          "base_uri": "https://localhost:8080/"
        },
        "id": "b7GMm2WDl5EO",
        "outputId": "fe714bc7-4348-4d3c-9bf8-2544ca028f83"
      },
      "source": [
        "y_pred = ann.predict(X_test)\r\n",
        "np.set_printoptions(precision=2)\r\n",
        "print(np.concatenate((y_pred.reshape(len(y_pred),1), y_test.reshape(len(y_test),1)),1))"
      ],
      "execution_count": 17,
      "outputs": [
        {
          "output_type": "stream",
          "text": [
            "[[432.07 431.23]\n",
            " [462.94 460.01]\n",
            " [466.41 461.14]\n",
            " ...\n",
            " [473.63 473.26]\n",
            " [440.5  438.  ]\n",
            " [459.63 463.28]]\n"
          ],
          "name": "stdout"
        }
      ]
    }
  ]
}