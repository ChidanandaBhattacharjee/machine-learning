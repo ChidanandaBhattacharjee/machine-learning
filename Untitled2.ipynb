{
  "nbformat": 4,
  "nbformat_minor": 0,
  "metadata": {
    "colab": {
      "name": "Untitled2.ipynb",
      "provenance": [],
      "authorship_tag": "ABX9TyOFB+5oFtYdcCFfZ3jR9Df3",
      "include_colab_link": true
    },
    "kernelspec": {
      "name": "python3",
      "display_name": "Python 3"
    }
  },
  "cells": [
    {
      "cell_type": "markdown",
      "metadata": {
        "id": "view-in-github",
        "colab_type": "text"
      },
      "source": [
        "<a href=\"https://colab.research.google.com/github/ChidanandaBhattacharjee/machine-learning/blob/main/Untitled2.ipynb\" target=\"_parent\"><img src=\"https://colab.research.google.com/assets/colab-badge.svg\" alt=\"Open In Colab\"/></a>"
      ]
    },
    {
      "cell_type": "markdown",
      "metadata": {
        "id": "Bt3L5Rfctz4p"
      },
      "source": [
        "**simple training of a nural network( single layer)**"
      ]
    },
    {
      "cell_type": "code",
      "metadata": {
        "id": "bATt0BvndVNi"
      },
      "source": [
        "import tensorflow as tf\r\n",
        "tf.compat.v1.logging.set_verbosity(tf.compat.v1.logging.ERROR)"
      ],
      "execution_count": 1,
      "outputs": []
    },
    {
      "cell_type": "code",
      "metadata": {
        "id": "J_c83Q5XexHy"
      },
      "source": [
        "import numpy as np\r\n"
      ],
      "execution_count": 2,
      "outputs": []
    },
    {
      "cell_type": "code",
      "metadata": {
        "id": "CmTfJ_sCe05f"
      },
      "source": [
        "celcious=np.array([-40, -10,  0,  8, 15, 22,  38],dtype=float)\r\n",
        "farenhite=np.array([-40,  14, 32, 46, 59, 72, 100],dtype=float)"
      ],
      "execution_count": 6,
      "outputs": []
    },
    {
      "cell_type": "code",
      "metadata": {
        "id": "vsBHBmx1Ghfj",
        "colab": {
          "base_uri": "https://localhost:8080/"
        },
        "outputId": "8865afec-43e7-49ab-96b8-5c43be295dff"
      },
      "source": [
        "for i,c in enumerate(celcious):\r\n",
        "  print(\"{} degree celcious= {} degree farhenhite\".format(c, farenhite[i]))"
      ],
      "execution_count": 7,
      "outputs": [
        {
          "output_type": "stream",
          "text": [
            "-40.0 degree celcious= -40.0 degree farhenhite\n",
            "-10.0 degree celcious= 14.0 degree farhenhite\n",
            "0.0 degree celcious= 32.0 degree farhenhite\n",
            "8.0 degree celcious= 46.0 degree farhenhite\n",
            "15.0 degree celcious= 59.0 degree farhenhite\n",
            "22.0 degree celcious= 72.0 degree farhenhite\n",
            "38.0 degree celcious= 100.0 degree farhenhite\n"
          ],
          "name": "stdout"
        }
      ]
    },
    {
      "cell_type": "code",
      "metadata": {
        "id": "OJURPzRXknjg"
      },
      "source": [
        "lyr1=tf.keras.layers.Dense(units=1,input_shape=[1])"
      ],
      "execution_count": 8,
      "outputs": []
    },
    {
      "cell_type": "code",
      "metadata": {
        "id": "aVYcBtgJluW4"
      },
      "source": [
        "model=tf.keras.Sequential([lyr1])"
      ],
      "execution_count": 9,
      "outputs": []
    },
    {
      "cell_type": "code",
      "metadata": {
        "id": "H2fbyytdmAbY"
      },
      "source": [
        "model.compile(loss='mean_squared_error',optimizer=tf.keras.optimizers.Adam(0.1))"
      ],
      "execution_count": 13,
      "outputs": []
    },
    {
      "cell_type": "code",
      "metadata": {
        "colab": {
          "base_uri": "https://localhost:8080/"
        },
        "id": "8fhTK2s9rxht",
        "outputId": "c430fff4-18f5-49b0-872f-e8f77ec4589e"
      },
      "source": [
        "train=model.fit(celcious,farenhite,epochs=500,verbose=False)\r\n",
        "print(\"Finished training the model\")"
      ],
      "execution_count": 15,
      "outputs": [
        {
          "output_type": "stream",
          "text": [
            "Finished training the model\n"
          ],
          "name": "stdout"
        }
      ]
    },
    {
      "cell_type": "code",
      "metadata": {
        "colab": {
          "base_uri": "https://localhost:8080/",
          "height": 296
        },
        "id": "9wUMqP3HsTvv",
        "outputId": "f8737a6a-522b-46c7-fff5-ae26c20f8b4d"
      },
      "source": [
        "import matplotlib.pyplot as plt\r\n",
        "plt.xlabel('Epoch Number')\r\n",
        "plt.ylabel(\"Loss Magnitude\")\r\n",
        "plt.plot(train.history['loss'])"
      ],
      "execution_count": 21,
      "outputs": [
        {
          "output_type": "execute_result",
          "data": {
            "text/plain": [
              "[<matplotlib.lines.Line2D at 0x7fbb02860ba8>]"
            ]
          },
          "metadata": {
            "tags": []
          },
          "execution_count": 21
        },
        {
          "output_type": "display_data",
          "data": {
            "image/png": "[encoded data removed]",
            "text/plain": [
              "<Figure size 432x288 with 1 Axes>"
            ]
          },
          "metadata": {
            "tags": [],
            "needs_background": "light"
          }
        }
      ]
    },
    {
      "cell_type": "code",
      "metadata": {
        "colab": {
          "base_uri": "https://localhost:8080/"
        },
        "id": "ZTEz5OrOtQIl",
        "outputId": "0719b0c7-8575-4466-af01-db0f0ec35802"
      },
      "source": [
        "print(model.predict([[189.0]]))"
      ],
      "execution_count": 23,
      "outputs": [
        {
          "output_type": "stream",
          "text": [
            "[[371.78128]]\n"
          ],
          "name": "stdout"
        }
      ]
    }
  ]
}